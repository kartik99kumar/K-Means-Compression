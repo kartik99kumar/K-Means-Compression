{
 "cells": [
  {
   "cell_type": "code",
   "execution_count": 9,
   "metadata": {},
   "outputs": [],
   "source": [
    "%matplotlib inline\n",
    "import numpy as np\n",
    "from matplotlib import pyplot as plt\n",
    "from matplotlib import image as image\n",
    "\n",
    "import os\n",
    "\n",
    "#Plot Style\n",
    "plt.style.use(\"ggplot\")\n",
    "\n",
    "from skimage import io\n",
    "from sklearn.cluster import KMeans\n",
    "from sklearn.cluster import MiniBatchKMeans\n",
    "\n",
    "from ipywidgets import interact, interactive, fixed, interact_manual, IntSlider\n",
    "import ipywidgets as widgets"
   ]
  },
  {
   "cell_type": "code",
   "execution_count": 10,
   "metadata": {},
   "outputs": [],
   "source": [
    "#Matplotlib Figure Size\n",
    "plt.rcParams['figure.figsize'] = (20, 12)\n",
    "image_dir='images'"
   ]
  },
  {
   "cell_type": "code",
   "execution_count": 14,
   "metadata": {},
   "outputs": [
    {
     "data": {
      "application/vnd.jupyter.widget-view+json": {
       "model_id": "56637593989f4f85b4c27e8667259be6",
       "version_major": 2,
       "version_minor": 0
      },
      "text/plain": [
       "interactive(children=(Dropdown(description='image', options=('testimg1.jpg',), value='testimg1.jpg'), IntSlide…"
      ]
     },
     "metadata": {},
     "output_type": "display_data"
    }
   ],
   "source": [
    "@interact \n",
    "def compress(image=os.listdir(image_dir), \n",
    "             k=IntSlider(min=1,max=256,step=1,value=16,continuous_update=False,layout=dict(width='100%'))):\n",
    "    \n",
    "    #image is the image selected from the image directory\n",
    "    #k is the number of clusters with default value of 16\n",
    "    \n",
    "    orig_image = io.imread(image_dir + str('/')+ image)\n",
    "    \n",
    "    #Normalising and Reshaping image data\n",
    "    image_data = (orig_image/ 255.0).reshape(-1, 3)\n",
    "    \n",
    "    #Compute K Means Clustering using Mini Batch K Means\n",
    "    kmeans = MiniBatchKMeans(k).fit(image_data)\n",
    "    \n",
    "    #Predict the closest cluster each sample in image data belongs to\n",
    "    k_colors = kmeans.cluster_centers_[kmeans.predict(image_data)]\n",
    "    \n",
    "    #Reshaping the k_colors to get back an image data\n",
    "    k_image = np.reshape(k_colors, (orig_image.shape))\n",
    "    \n",
    "    fig, (ax1, ax2) = plt.subplots(1, 2)\n",
    "    fig.suptitle('Image Compression', fontsize=20)\n",
    "    \n",
    "    ax1.set_title('Compressed')\n",
    "    ax1.imshow(k_image)\n",
    "    \n",
    "    ax2.set_title('Original')\n",
    "    ax2.imshow(orig_image)\n",
    "    \n",
    "    plt.subplots_adjust(top=0.85)\n",
    "    plt.show()"
   ]
  },
  {
   "cell_type": "code",
   "execution_count": null,
   "metadata": {},
   "outputs": [],
   "source": []
  },
  {
   "cell_type": "code",
   "execution_count": null,
   "metadata": {},
   "outputs": [],
   "source": []
  }
 ],
 "metadata": {
  "kernelspec": {
   "display_name": "Python 3",
   "language": "python",
   "name": "python3"
  },
  "language_info": {
   "codemirror_mode": {
    "name": "ipython",
    "version": 3
   },
   "file_extension": ".py",
   "mimetype": "text/x-python",
   "name": "python",
   "nbconvert_exporter": "python",
   "pygments_lexer": "ipython3",
   "version": "3.7.5"
  }
 },
 "nbformat": 4,
 "nbformat_minor": 4
}
